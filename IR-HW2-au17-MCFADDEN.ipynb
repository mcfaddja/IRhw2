{
 "cells": [
  {
   "cell_type": "markdown",
   "metadata": {},
   "source": [
    "# Homework 2\n",
    "**Jonathan McFadden**\n",
    "**_TCSS-554 : Autumn 2017_**\n",
    "\n",
    "## Part 1\n",
    "\n",
    "### Import Data and Initialize\n",
    "\n",
    "First, we import the required libraries.  In this case, its just *numpy*:"
   ]
  },
  {
   "cell_type": "code",
   "execution_count": 1,
   "metadata": {
    "collapsed": true
   },
   "outputs": [],
   "source": [
    "import numpy as np"
   ]
  },
  {
   "cell_type": "markdown",
   "metadata": {},
   "source": [
    "For the first part of the homework, we will define the input file name and value of $\\beta$ as constants"
   ]
  },
  {
   "cell_type": "code",
   "execution_count": 2,
   "metadata": {
    "collapsed": true
   },
   "outputs": [],
   "source": [
    "filename = \"input.txt\"\n",
    "beta = 0.85"
   ]
  },
  {
   "cell_type": "markdown",
   "metadata": {},
   "source": [
    "We can now import the file to the variable *df*"
   ]
  },
  {
   "cell_type": "code",
   "execution_count": 3,
   "metadata": {
    "collapsed": true
   },
   "outputs": [],
   "source": [
    "df = np.genfromtxt(filename, dtype=float)"
   ]
  },
  {
   "cell_type": "markdown",
   "metadata": {},
   "source": [
    "Next, we must get the maximim matrix index in the imported file, so we know how big to make our transitition matrix."
   ]
  },
  {
   "cell_type": "code",
   "execution_count": 4,
   "metadata": {
    "collapsed": true
   },
   "outputs": [],
   "source": [
    "nDim0 = np.amax(df, axis=0)\n",
    "nDim = int(np.amax(nDim0[0:2]))"
   ]
  },
  {
   "cell_type": "markdown",
   "metadata": {},
   "source": [
    "The max index value of the imported data is"
   ]
  },
  {
   "cell_type": "code",
   "execution_count": 5,
   "metadata": {},
   "outputs": [
    {
     "name": "stdout",
     "output_type": "stream",
     "text": [
      "6\n"
     ]
    }
   ],
   "source": [
    "print(nDim)"
   ]
  },
  {
   "cell_type": "markdown",
   "metadata": {},
   "source": [
    "With this value for the dimension, we can now initialize an initial transition matrix $\\bar{\\bar{\\textbf{A}}}$ as a 2D array of zeros."
   ]
  },
  {
   "cell_type": "code",
   "execution_count": 6,
   "metadata": {},
   "outputs": [],
   "source": [
    "Amat = np.zeros((nDim, nDim))"
   ]
  },
  {
   "cell_type": "markdown",
   "metadata": {},
   "source": [
    "We now load the values from the imported file into our initial transition matrix"
   ]
  },
  {
   "cell_type": "code",
   "execution_count": 7,
   "metadata": {
    "collapsed": true
   },
   "outputs": [],
   "source": [
    "for row in df:\n",
    "\ti = int(row[0] - 1)\n",
    "\tj = int(row[1] - 1)\n",
    "\tk = row[2]\n",
    "\t\n",
    "\tAmat[i,j]=k"
   ]
  },
  {
   "cell_type": "markdown",
   "metadata": {},
   "source": [
    "Checking our import gives"
   ]
  },
  {
   "cell_type": "code",
   "execution_count": 8,
   "metadata": {},
   "outputs": [
    {
     "name": "stdout",
     "output_type": "stream",
     "text": [
      "[[ 0.  1.  0.  0.  0.  0.]\n",
      " [ 0.  0.  1.  1.  1.  0.]\n",
      " [ 0.  1.  0.  1.  1.  0.]\n",
      " [ 0.  1.  1.  0.  1.  0.]\n",
      " [ 0.  1.  1.  1.  0.  1.]\n",
      " [ 0.  0.  0.  0.  0.  0.]]\n"
     ]
    }
   ],
   "source": [
    "print(Amat)"
   ]
  },
  {
   "cell_type": "markdown",
   "metadata": {},
   "source": [
    "### Normalize columns\n",
    "\n",
    "We now need to normalize the imported matrix by column.  Thus, we need the sum of each column in $\\bar{\\bar{\\textbf{A}}}$."
   ]
  },
  {
   "cell_type": "code",
   "execution_count": 9,
   "metadata": {
    "collapsed": true
   },
   "outputs": [],
   "source": [
    "colSums = Amat.sum(axis=0)"
   ]
  },
  {
   "cell_type": "markdown",
   "metadata": {},
   "source": [
    "Since the *.sum()* routine returns a row vector, we must transpose the  initial transition matrix in order for the division operation to properly normalize the columns."
   ]
  },
  {
   "cell_type": "code",
   "execution_count": 10,
   "metadata": {
    "collapsed": true
   },
   "outputs": [],
   "source": [
    "Amat = np.transpose(Amat)"
   ]
  },
  {
   "cell_type": "markdown",
   "metadata": {},
   "source": [
    "We also need a variable to store our final (*i.e. column normalized*) transition matrix, $\\bar{\\bar{\\textbf{M}}}$ "
   ]
  },
  {
   "cell_type": "code",
   "execution_count": 11,
   "metadata": {
    "collapsed": true
   },
   "outputs": [],
   "source": [
    "Mmat = np.zeros((nDim,nDim))"
   ]
  },
  {
   "cell_type": "markdown",
   "metadata": {},
   "source": [
    "We now loop through our initial transition matrix $\\bar{\\bar{\\textbf{A}}}$ and the column sums stored in *colSums*[ ], normalizing the *now rows* of $\\bar{\\bar{\\textbf{A}}}$ and storing the result in our variable for $\\bar{\\bar{\\textbf{M}}}$"
   ]
  },
  {
   "cell_type": "code",
   "execution_count": 12,
   "metadata": {
    "collapsed": true
   },
   "outputs": [],
   "source": [
    "for i, (row, colSums) in enumerate(zip(Amat, colSums)):\n",
    "\tif colSums != 0:\n",
    "\t\tMmat[i,:] = row / colSums\n",
    "\telse:\n",
    "\t\tMmat[i,:] = row"
   ]
  },
  {
   "cell_type": "markdown",
   "metadata": {},
   "source": [
    "Note that we had to take into account the case of a column summing to $0$ via the *if* statement in the above loop.\n",
    "\n",
    "We now reverse the earlier transpose to get the final transition matrix out."
   ]
  },
  {
   "cell_type": "code",
   "execution_count": 13,
   "metadata": {},
   "outputs": [],
   "source": [
    "Mmat = np.transpose(Mmat)"
   ]
  },
  {
   "cell_type": "markdown",
   "metadata": {},
   "source": [
    "Thus, our final transition matrix, $\\bar{\\bar{\\textbf{M}}}$, is"
   ]
  },
  {
   "cell_type": "code",
   "execution_count": 14,
   "metadata": {},
   "outputs": [
    {
     "name": "stdout",
     "output_type": "stream",
     "text": [
      "[[ 0.          0.25        0.          0.          0.          0.        ]\n",
      " [ 0.          0.          0.33333333  0.33333333  0.33333333  0.        ]\n",
      " [ 0.          0.25        0.          0.33333333  0.33333333  0.        ]\n",
      " [ 0.          0.25        0.33333333  0.          0.33333333  0.        ]\n",
      " [ 0.          0.25        0.33333333  0.33333333  0.          1.        ]\n",
      " [ 0.          0.          0.          0.          0.          0.        ]]\n"
     ]
    }
   ],
   "source": [
    "print(Mmat)"
   ]
  },
  {
   "cell_type": "markdown",
   "metadata": {},
   "source": [
    "### Initial Rank Vector\n",
    "\n",
    "Continuing, we need an initial rank vector, $\\vec{\\textbf{r}}_0$.  Since the initial rank vector is defined $$\\vec{\\textbf{r}}_0 \\cong \\frac{1}{n}\\vec{\\textbf{e}}$$ where $n \\in \\mathbb{Z}^+$ is the dimension of the system. Thus, we initialize and store our initial rank vector by calling"
   ]
  },
  {
   "cell_type": "code",
   "execution_count": 15,
   "metadata": {
    "collapsed": true
   },
   "outputs": [],
   "source": [
    "r0 = np.ones((nDim,1))\n",
    "r0 = r0 * 1/nDim"
   ]
  },
  {
   "cell_type": "markdown",
   "metadata": {},
   "source": [
    "to give its value as"
   ]
  },
  {
   "cell_type": "code",
   "execution_count": 16,
   "metadata": {},
   "outputs": [
    {
     "name": "stdout",
     "output_type": "stream",
     "text": [
      "[[ 0.16666667]\n",
      " [ 0.16666667]\n",
      " [ 0.16666667]\n",
      " [ 0.16666667]\n",
      " [ 0.16666667]\n",
      " [ 0.16666667]]\n"
     ]
    }
   ],
   "source": [
    "print(r0)"
   ]
  },
  {
   "cell_type": "markdown",
   "metadata": {},
   "source": [
    "### Itterate to Steady State\n",
    "\n",
    "Now, we will itterate our rank vector through our stochastic equation $$\\vec{\\textbf{r}}_n = \\beta \\, \\bar{\\bar{\\textbf{M}}} \\cdot \\vec{\\textbf{r}}_{n-1} + \\frac{\\left(1-\\beta\\right)}{n} \\vec{\\textbf{e}}$$.  Since we are interested in how long it takes to reach steady state, we begin by initializing a counter"
   ]
  },
  {
   "cell_type": "code",
   "execution_count": 17,
   "metadata": {
    "collapsed": true
   },
   "outputs": [],
   "source": [
    "nCnt = 0"
   ]
  },
  {
   "cell_type": "markdown",
   "metadata": {},
   "source": [
    "As we are itterating until we reach steady state, we must initialize a test condition for our *while* loop"
   ]
  },
  {
   "cell_type": "code",
   "execution_count": 18,
   "metadata": {
    "collapsed": true
   },
   "outputs": [],
   "source": [
    "testCond = False"
   ]
  },
  {
   "cell_type": "markdown",
   "metadata": {},
   "source": [
    "With everything now ready, we can run the *while* loop to itterate until we reach steady state"
   ]
  },
  {
   "cell_type": "code",
   "execution_count": 19,
   "metadata": {
    "collapsed": true
   },
   "outputs": [],
   "source": [
    "while testCond == False:\n",
    "\tr1 = beta*np.dot(Mmat,r0) + (1-beta)*np.ones((nDim,1))*(1/nDim)\n",
    "\t#testCond = True\n",
    "\ttestCond = np.allclose(r0, r1)\n",
    "\tif testCond == False:\n",
    "\t\tr0 = r1\n",
    "\tnCnt = nCnt + 1"
   ]
  },
  {
   "cell_type": "markdown",
   "metadata": {},
   "source": [
    "This gives the number of itterations required to reach steady state as"
   ]
  },
  {
   "cell_type": "code",
   "execution_count": 20,
   "metadata": {},
   "outputs": [
    {
     "name": "stdout",
     "output_type": "stream",
     "text": [
      "41\n"
     ]
    }
   ],
   "source": [
    "print(nCnt)"
   ]
  },
  {
   "cell_type": "markdown",
   "metadata": {},
   "source": [
    "and the final value of the rank vector as"
   ]
  },
  {
   "cell_type": "code",
   "execution_count": 22,
   "metadata": {},
   "outputs": [
    {
     "name": "stdout",
     "output_type": "stream",
     "text": [
      "[[ 0.05704271]\n",
      " [ 0.15078799]\n",
      " [ 0.14246522]\n",
      " [ 0.14246522]\n",
      " [ 0.15902366]\n",
      " [ 0.025     ]]\n"
     ]
    }
   ],
   "source": [
    "print(r1)"
   ]
  },
  {
   "cell_type": "markdown",
   "metadata": {},
   "source": [
    "## Part 2 (*EC*)\n",
    "\n",
    "For the extra-credit part of the assignment, the above code has been adapted to work in the general case.  To do this, three changes were made to the above code.  These changes are\n",
    "* The code was defined as a class with an initializer that accepts a string for the filename and a double for the value of $\\beta$.  When initialized, the class computes all the requested values and prints them to the terminal.\n",
    "* The constants which previously held the values for the file name and $\\beta$ are changed to point at the values passed by the initializer.\n",
    "* A safety counter was added to the *while* loop to prevent it from looping infinitely.\n",
    "\n",
    "The code for this class is given below"
   ]
  },
  {
   "cell_type": "code",
   "execution_count": 29,
   "metadata": {},
   "outputs": [],
   "source": [
    "class pageRanker:\n",
    "    import numpy as np\n",
    "    \n",
    "    def __init__(self, filename, beta):\n",
    "        # import file\n",
    "        df = np.genfromtxt(filename, dtype=float)\n",
    "        \n",
    "        # get required size of matrix\n",
    "        nDim0 = np.amax(df, axis=0)\n",
    "        nDim = int(np.amax(nDim0[0:2]))\n",
    "        \n",
    "        # create initial matrix\n",
    "        Amat = np.zeros((nDim, nDim))\n",
    "        \n",
    "        # load data into initial matrix\n",
    "        for row in df:\n",
    "            i = int(row[0] - 1)\n",
    "            j = int(row[1] - 1)\n",
    "            k = row[2]\n",
    "\t\n",
    "            Amat[i,j]=k\n",
    "        \n",
    "        # normalize by column\n",
    "        colSums = Amat.sum(axis=0)\n",
    "        # transpose to match dimensionality\n",
    "        Amat = np.transpose(Amat)\n",
    "        Mmat = np.zeros((nDim,nDim))\n",
    "        for i, (row, colSums) in enumerate(zip(Amat, colSums)):\n",
    "            if colSums != 0:\n",
    "                Mmat[i,:] = row / colSums\n",
    "            else:\n",
    "                Mmat[i,:] = row\n",
    "                \n",
    "        # reverse the transpose\t\t\n",
    "        Mmat = np.transpose(Mmat)\n",
    "        \n",
    "        # create initial r vector\n",
    "        r0 = np.ones((nDim,1))\n",
    "        r0 = r0 * 1/nDim\n",
    "        \n",
    "        # iterate rank vector\n",
    "        nCnt = 0 # number of itterations\n",
    "        testCond = False # initialize test condition\n",
    "        nMax = 1000000 # safety counter to prevent infinite looping\n",
    "        while testCond == False:\n",
    "            r1 = beta*np.dot(Mmat,r0) + (1-beta)*np.ones((nDim,1))*(1/nDim)\n",
    "            \n",
    "            testCond = np.allclose(r0, r1)\n",
    "            if testCond == False:\n",
    "                r0 = r1\n",
    "                \n",
    "            nCnt = nCnt + 1\n",
    "            if nCnt == nMax:\n",
    "                break\n",
    "        \n",
    "        print(\"Normalized adjacency matrix\")\n",
    "        print(Mmat)\n",
    "        print(\"\")\n",
    "        \n",
    "        print(\"The original page rank vector\")\n",
    "        print(r0)\n",
    "        print(\"\")\n",
    "        \n",
    "        print(\"number of itterations\")\n",
    "        print(nCnt)\n",
    "        print(\"\")\n",
    "        \n",
    "        print(\"Final page rank vector\")\t\n",
    "        print(r1)\n"
   ]
  },
  {
   "cell_type": "markdown",
   "metadata": {},
   "source": [
    "Running this class on the input from the first part of the homework yields"
   ]
  },
  {
   "cell_type": "code",
   "execution_count": 30,
   "metadata": {},
   "outputs": [
    {
     "name": "stdout",
     "output_type": "stream",
     "text": [
      "Normalized adjacency matrix\n",
      "[[ 0.          0.25        0.          0.          0.          0.        ]\n",
      " [ 0.          0.          0.33333333  0.33333333  0.33333333  0.        ]\n",
      " [ 0.          0.25        0.          0.33333333  0.33333333  0.        ]\n",
      " [ 0.          0.25        0.33333333  0.          0.33333333  0.        ]\n",
      " [ 0.          0.25        0.33333333  0.33333333  0.          1.        ]\n",
      " [ 0.          0.          0.          0.          0.          0.        ]]\n",
      "\n",
      "The original page rank vector\n",
      "[[ 0.05704305]\n",
      " [ 0.15078923]\n",
      " [ 0.14246639]\n",
      " [ 0.14246639]\n",
      " [ 0.15902483]\n",
      " [ 0.025     ]]\n",
      "\n",
      "number of itterations\n",
      "41\n",
      "\n",
      "Final page rank vector\n",
      "[[ 0.05704271]\n",
      " [ 0.15078799]\n",
      " [ 0.14246522]\n",
      " [ 0.14246522]\n",
      " [ 0.15902366]\n",
      " [ 0.025     ]]\n"
     ]
    },
    {
     "data": {
      "text/plain": [
       "<__main__.pageRanker at 0x107b0c320>"
      ]
     },
     "execution_count": 30,
     "metadata": {},
     "output_type": "execute_result"
    }
   ],
   "source": [
    "pageRanker(\"input.txt\", 0.85)"
   ]
  },
  {
   "cell_type": "markdown",
   "metadata": {},
   "source": [
    "which is the same as before.\n",
    "\n",
    "Using the "
   ]
  }
 ],
 "metadata": {
  "kernelspec": {
   "display_name": "Python 3",
   "language": "python",
   "name": "python3"
  },
  "language_info": {
   "codemirror_mode": {
    "name": "ipython",
    "version": 3
   },
   "file_extension": ".py",
   "mimetype": "text/x-python",
   "name": "python",
   "nbconvert_exporter": "python",
   "pygments_lexer": "ipython3",
   "version": "3.6.3"
  }
 },
 "nbformat": 4,
 "nbformat_minor": 2
}
